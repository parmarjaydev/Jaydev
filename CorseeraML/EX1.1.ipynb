{
 "cells": [
  {
   "cell_type": "code",
   "execution_count": 14,
   "metadata": {},
   "outputs": [],
   "source": [
    "import pandas as pd\n",
    "import numpy as np\n",
    "import matplotlib.pyplot as plt"
   ]
  },
  {
   "cell_type": "code",
   "execution_count": 15,
   "metadata": {},
   "outputs": [],
   "source": [
    "df = pd.read_csv('ex1data1.txt', header=None)"
   ]
  },
  {
   "cell_type": "code",
   "execution_count": 16,
   "metadata": {},
   "outputs": [],
   "source": [
    "X = df.iloc[:,0]\n",
    "y = df.iloc[:,1]\n",
    "m = len(df)"
   ]
  },
  {
   "cell_type": "code",
   "execution_count": 20,
   "metadata": {},
   "outputs": [
    {
     "data": {
      "image/png": "[encoded data removed]",
      "text/plain": [
       "<Figure size 432x288 with 1 Axes>"
      ]
     },
     "metadata": {
      "needs_background": "light"
     },
     "output_type": "display_data"
    },
    {
     "name": "stdout",
     "output_type": "stream",
     "text": [
      "(97,)\n",
      "(97,)\n"
     ]
    }
   ],
   "source": [
    "plt.scatter(X,y)\n",
    "plt.xlabel('City Polulation in 10K');\n",
    "plt.ylabel('Revenue in 10K$');\n",
    "plt.show();\n",
    "\n",
    "print(X.shape);\n",
    "print(y.shape);"
   ]
  },
  {
   "cell_type": "code",
   "execution_count": 22,
   "metadata": {},
   "outputs": [],
   "source": [
    "X= X[:,np.newaxis]\n",
    "y= y[:,np.newaxis]"
   ]
  },
  {
   "cell_type": "code",
   "execution_count": 23,
   "metadata": {},
   "outputs": [
    {
     "name": "stdout",
     "output_type": "stream",
     "text": [
      "(97, 1)\n",
      "(97, 1)\n"
     ]
    }
   ],
   "source": [
    "print(X.shape);\n",
    "print(y.shape);"
   ]
  },
  {
   "cell_type": "code",
   "execution_count": 29,
   "metadata": {},
   "outputs": [
    {
     "name": "stdout",
     "output_type": "stream",
     "text": [
      "Help on function hstack in module numpy.core.shape_base:\n",
      "\n",
      "hstack(tup)\n",
      "    Stack arrays in sequence horizontally (column wise).\n",
      "    \n",
      "    This is equivalent to concatenation along the second axis, except for 1-D\n",
      "    arrays where it concatenates along the first axis. Rebuilds arrays divided\n",
      "    by `hsplit`.\n",
      "    \n",
      "    This function makes most sense for arrays with up to 3 dimensions. For\n",
      "    instance, for pixel-data with a height (first axis), width (second axis),\n",
      "    and r/g/b channels (third axis). The functions `concatenate`, `stack` and\n",
      "    `block` provide more general stacking and concatenation operations.\n",
      "    \n",
      "    Parameters\n",
      "    ----------\n",
      "    tup : sequence of ndarrays\n",
      "        The arrays must have the same shape along all but the second axis,\n",
      "        except 1-D arrays which can be any length.\n",
      "    \n",
      "    Returns\n",
      "    -------\n",
      "    stacked : ndarray\n",
      "        The array formed by stacking the given arrays.\n",
      "    \n",
      "    See Also\n",
      "    --------\n",
      "    stack : Join a sequence of arrays along a new axis.\n",
      "    vstack : Stack arrays in sequence vertically (row wise).\n",
      "    dstack : Stack arrays in sequence depth wise (along third axis).\n",
      "    concatenate : Join a sequence of arrays along an existing axis.\n",
      "    hsplit : Split array along second axis.\n",
      "    block : Assemble arrays from blocks.\n",
      "    \n",
      "    Examples\n",
      "    --------\n",
      "    >>> a = np.array((1,2,3))\n",
      "    >>> b = np.array((2,3,4))\n",
      "    >>> np.hstack((a,b))\n",
      "    array([1, 2, 3, 2, 3, 4])\n",
      "    >>> a = np.array([[1],[2],[3]])\n",
      "    >>> b = np.array([[2],[3],[4]])\n",
      "    >>> np.hstack((a,b))\n",
      "    array([[1, 2],\n",
      "           [2, 3],\n",
      "           [3, 4]])\n",
      "\n"
     ]
    }
   ],
   "source": [
    "theta = np.zeros((2,1))\n",
    "help(np.hstack)"
   ]
  },
  {
   "cell_type": "code",
   "execution_count": 30,
   "metadata": {},
   "outputs": [],
   "source": [
    "X = np.hstack((np.ones((m,1)),X))"
   ]
  },
  {
   "cell_type": "code",
   "execution_count": 33,
   "metadata": {},
   "outputs": [],
   "source": [
    "def gradienDecent(X,y,theta,alpha,iteration):\n",
    "    m = len(y);\n",
    "    for _ in range(iteration):\n",
    "        hyp = np.dot(X,theta);\n",
    "        theta = theta - (alpha/m)*(np.dot(X.T,hyp-y));\n",
    "    return theta;"
   ]
  },
  {
   "cell_type": "code",
   "execution_count": 34,
   "metadata": {},
   "outputs": [],
   "source": [
    "def costFun(X,y,theta):\n",
    "    m = len(y);\n",
    "    hyp = np.dot(X,theta);\n",
    "    cost = np.sum(np.square(hyp-y))/(2*m);\n",
    "    return cost;"
   ]
  },
  {
   "cell_type": "code",
   "execution_count": 35,
   "metadata": {},
   "outputs": [
    {
     "name": "stdout",
     "output_type": "stream",
     "text": [
      "32.072733877455676\n"
     ]
    }
   ],
   "source": [
    "print(costFun(X,y,np.array([[0],[0]])));"
   ]
  },
  {
   "cell_type": "code",
   "execution_count": 41,
   "metadata": {},
   "outputs": [],
   "source": [
    "theta = gradienDecent(X,y,np.array([[0],[0]]),0.01,15000)"
   ]
  },
  {
   "cell_type": "code",
   "execution_count": 43,
   "metadata": {},
   "outputs": [
    {
     "name": "stdout",
     "output_type": "stream",
     "text": [
      "4.476971375975179\n"
     ]
    }
   ],
   "source": [
    "print(costFun(X,y,theta));"
   ]
  },
  {
   "cell_type": "code",
   "execution_count": 44,
   "metadata": {},
   "outputs": [
    {
     "data": {
      "image/png": "[encoded data removed]",
      "text/plain": [
       "<Figure size 432x288 with 1 Axes>"
      ]
     },
     "metadata": {
      "needs_background": "light"
     },
     "output_type": "display_data"
    }
   ],
   "source": [
    "plt.scatter(X[:,1],y)\n",
    "plt.xlabel('City Polulation in 10K');\n",
    "plt.ylabel('Revenue in 10K$');\n",
    "plt.plot(X[:,1],np.dot(X,theta))\n",
    "plt.show();"
   ]
  },
  {
   "cell_type": "code",
   "execution_count": null,
   "metadata": {},
   "outputs": [],
   "source": []
  }
 ],
 "metadata": {
  "kernelspec": {
   "display_name": "Python 3",
   "language": "python",
   "name": "python3"
  },
  "language_info": {
   "codemirror_mode": {
    "name": "ipython",
    "version": 3
   },
   "file_extension": ".py",
   "mimetype": "text/x-python",
   "name": "python",
   "nbconvert_exporter": "python",
   "pygments_lexer": "ipython3",
   "version": "3.6.6"
  }
 },
 "nbformat": 4,
 "nbformat_minor": 2
}
